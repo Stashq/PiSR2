{
 "metadata": {
  "language_info": {
   "codemirror_mode": {
    "name": "ipython",
    "version": 3
   },
   "file_extension": ".py",
   "mimetype": "text/x-python",
   "name": "python",
   "nbconvert_exporter": "python",
   "pygments_lexer": "ipython3",
   "version": "3.7.8-final"
  },
  "orig_nbformat": 2,
  "kernelspec": {
   "name": "python3",
   "display_name": "Python 3.7.8 64-bit ('env')",
   "metadata": {
    "interpreter": {
     "hash": "a3c017c62ffb9bdda6a2421bc2b7bd4134bcb55e921bf71ae102b4b0ee8a35c3"
    }
   }
  }
 },
 "nbformat": 4,
 "nbformat_minor": 2,
 "cells": [
  {
   "source": [
    "# 1 - RNN Based Ratings Model"
   ],
   "cell_type": "markdown",
   "metadata": {}
  },
  {
   "source": [
    "## Dependencies"
   ],
   "cell_type": "markdown",
   "metadata": {}
  },
  {
   "cell_type": "code",
   "execution_count": null,
   "metadata": {},
   "outputs": [],
   "source": [
    "%load_ext autoreload\n",
    "%load_ext nb_black\n",
    "%autoreload 2\n",
    "\n",
    "import sys; sys.path.append('../')\n",
    "\n",
    "from pathlib import Path\n",
    "\n",
    "import pandas as pd\n",
    "import plotly.express as px\n",
    "import plotly.io as pio\n",
    "import torch\n",
    "from sklearn.preprocessing import LabelEncoder\n",
    "from torch.nn import MSELoss\n",
    "\n",
    "from src.models.rnn.data import get_dataset\n",
    "from src.models.rnn.model import RNNRatings\n",
    "from src.models.rnn.trainer import Trainer\n",
    "from src.util import metrics\n",
    "from src.util.data import get_interactions, get_sparsity_factor, get_train_test_ratings\n",
    "from src.util.discretizer import RatingDiscretizer\n",
    "\n",
    "pio.renderers.default = \"notebook\"\n",
    "\n",
    "DEVICE = torch.device(\"cpu\")\n",
    "if torch.cuda.is_available():\n",
    "    DEVICE = torch.device(\"cuda\")\n",
    "\n",
    "RATINGS_PATH = Path(\"../data/ratings_small.csv\")\n",
    "OUTPUT_PATH = Path(\"../models/embedded_regression.pt\")"
   ]
  },
  {
   "source": [
    "## Data"
   ],
   "cell_type": "markdown",
   "metadata": {}
  },
  {
   "cell_type": "code",
   "execution_count": null,
   "metadata": {},
   "outputs": [],
   "source": [
    "ratings = pd.read_csv(RATINGS_PATH)\n",
    "\n",
    "user_encoder = LabelEncoder()\n",
    "user_encoder.fit(ratings[\"userId\"].values)\n",
    "\n",
    "movie_encoder = LabelEncoder()\n",
    "movie_encoder.fit(ratings[\"movieId\"].values)"
   ]
  },
  {
   "cell_type": "code",
   "execution_count": null,
   "metadata": {},
   "outputs": [],
   "source": [
    "ratings[\"rating\"] /= ratings[\"rating\"].values.max()\n",
    "\n",
    "train_ratings, test_ratings = get_train_test_ratings(ratings)\n",
    "\n",
    "train_ratings = train_ratings.sort_values(by=\"timestamp\", ascending=True)\n",
    "test_ratings = test_ratings.sort_values(by=\"timestamp\", ascending=True)"
   ]
  },
  {
   "cell_type": "code",
   "execution_count": null,
   "metadata": {},
   "outputs": [],
   "source": [
    "train_interactions = get_interactions(train_ratings, user_encoder, movie_encoder)\n",
    "test_interactions = get_interactions(test_ratings, user_encoder, movie_encoder)\n",
    "\n",
    "train_sparsity = get_sparsity_factor(train_interactions)\n",
    "test_sparsity = get_sparsity_factor(test_interactions)"
   ]
  },
  {
   "cell_type": "code",
   "execution_count": null,
   "metadata": {},
   "outputs": [],
   "source": [
    "print(f\"Train sparsity: {(train_sparsity * 100):.3f}%\")\n",
    "print(f\"Test sparsity: {(test_sparsity * 100):.3f}%\")"
   ]
  },
  {
   "cell_type": "code",
   "execution_count": null,
   "metadata": {},
   "outputs": [],
   "source": [
    "# ? binarization is used only to validate ranking metrics\n",
    "\n",
    "rating_discretizer = RatingDiscretizer()\n",
    "train_discretized_ratings = rating_discretizer.fit_transform(train_ratings)\n",
    "test_discretized_ratings = rating_discretizer.transform(test_ratings)"
   ]
  },
  {
   "cell_type": "code",
   "execution_count": null,
   "metadata": {},
   "outputs": [],
   "source": [
    "train_ratings[\"userId\"] = user_encoder.transform(train_ratings[\"userId\"].values)\n",
    "test_ratings[\"userId\"] = user_encoder.transform(test_ratings[\"userId\"].values)\n",
    "\n",
    "train_ratings[\"movieId\"] = movie_encoder.transform(train_ratings[\"movieId\"].values)\n",
    "test_ratings[\"movieId\"] = movie_encoder.transform(test_ratings[\"movieId\"].values)"
   ]
  },
  {
   "source": [
    "## Model"
   ],
   "cell_type": "markdown",
   "metadata": {}
  },
  {
   "cell_type": "code",
   "execution_count": null,
   "metadata": {},
   "outputs": [],
   "source": [
    "model = RNNRatings(\n",
    "    train_interactions,\n",
    "    n_factors=10,\n",
    "    user_encoder=user_encoder,\n",
    "    movie_encoder=movie_encoder,\n",
    ")\n",
    "\n",
    "model.to(DEVICE)\n",
    "\n",
    "trainer = Trainer(\n",
    "    loss=MSELoss(),\n",
    "    regularizers=[],\n",
    "    lr=1e-3,\n",
    "    weight_decay=1e-7,\n",
    "    epochs=5,\n",
    "    batch_size=1_000,\n",
    ")"
   ]
  },
  {
   "cell_type": "code",
   "execution_count": null,
   "metadata": {},
   "outputs": [],
   "source": [
    "train_dataset = get_dataset(train_ratings, DEVICE)\n",
    "test_dataset = get_dataset(test_ratings, DEVICE)"
   ]
  },
  {
   "cell_type": "code",
   "execution_count": null,
   "metadata": {},
   "outputs": [],
   "source": [
    "trainer.fit(model, train_dataset, test_dataset)"
   ]
  },
  {
   "cell_type": "code",
   "execution_count": null,
   "metadata": {},
   "outputs": [],
   "source": [
    "loss_history = trainer.get_loss_history()\n",
    "\n",
    "fig = px.line(\n",
    "    loss_history,\n",
    "    x=\"epoch\",\n",
    "    y=\"value\",\n",
    "    color=\"loss\",\n",
    "    title=\"Convergence\",\n",
    "    labels={\n",
    "        \"epoch\": \"Epochs\",\n",
    "        \"loss\": \"Loss\",\n",
    "        \"value\": \"MSE\"\n",
    "    }\n",
    ")\n",
    "fig.show()"
   ]
  },
  {
   "cell_type": "code",
   "execution_count": null,
   "metadata": {},
   "outputs": [],
   "source": [
    "model.eval()\n",
    "\n",
    "with torch.no_grad():\n",
    "    mean_reciprocal_rank, reciprocal_ranks = metrics.mean_reciprocal_rank(\n",
    "        test_discretized_ratings,\n",
    "        model\n",
    "    )"
   ]
  },
  {
   "cell_type": "code",
   "execution_count": null,
   "metadata": {},
   "outputs": [],
   "source": [
    "with torch.no_grad():\n",
    "    mean_ndcg, ndcg_ranks = metrics.mean_ndcg(\n",
    "        test_discretized_ratings,\n",
    "        model\n",
    "    )"
   ]
  },
  {
   "cell_type": "code",
   "execution_count": null,
   "metadata": {},
   "outputs": [],
   "source": [
    "print(f\"Mean Reciprocal Rank: {(mean_reciprocal_rank * 100):.2f}%\")\n",
    "print(f\"Mean NDCG: {(mean_ndcg * 100):.2f}%\")"
   ]
  },
  {
   "cell_type": "code",
   "execution_count": null,
   "metadata": {},
   "outputs": [],
   "source": [
    "fig = px.histogram(\n",
    "    x=reciprocal_ranks,\n",
    "    marginal=\"box\",\n",
    "    title=\"Reciprocal Rank Distribution\",\n",
    "    labels={\n",
    "        \"x\": \"Reciprocal Rank\"\n",
    "    },\n",
    ")\n",
    "\n",
    "fig.show()"
   ]
  },
  {
   "cell_type": "code",
   "execution_count": null,
   "metadata": {},
   "outputs": [],
   "source": [
    "fig = px.histogram(\n",
    "    x=ndcg_ranks,\n",
    "    marginal=\"box\",\n",
    "    title=\"Reciprocal Rank Distribution\",\n",
    "    labels={\n",
    "        \"x\": \"Reciprocal Rank\"\n",
    "    },\n",
    ")\n",
    "\n",
    "fig.show()"
   ]
  }
 ]
}