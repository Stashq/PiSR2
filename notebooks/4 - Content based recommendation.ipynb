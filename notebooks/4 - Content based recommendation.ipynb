{
 "cells": [
  {
   "cell_type": "code",
   "execution_count": 2,
   "id": "inclusive-ottawa",
   "metadata": {},
   "outputs": [
    {
     "name": "stdout",
     "output_type": "stream",
     "text": [
      "The autoreload extension is already loaded. To reload it, use:\n",
      "  %reload_ext autoreload\n",
      "The nb_black extension is already loaded. To reload it, use:\n",
      "  %reload_ext nb_black\n"
     ]
    },
    {
     "data": {
      "application/javascript": [
       "\n",
       "            setTimeout(function() {\n",
       "                var nbb_cell_id = 2;\n",
       "                var nbb_unformatted_code = \"%load_ext autoreload\\n%load_ext nb_black\\n%autoreload 2\\n\\nimport sys\\nimport warnings\\nwarnings.simplefilter(action=\\\"ignore\\\", category=FutureWarning)\\nwarnings.filterwarnings(\\\"ignore\\\")\\nsys.path.append(\\\"../\\\")\\n\\nfrom pathlib import Path\\n\\nimport pandas as pd\\nimport plotly.express as px\\nimport plotly.io as pio\\nimport torch\\nfrom sklearn.preprocessing import LabelEncoder\\nfrom torch.nn import MSELoss\\n\\nfrom src.models.contentBased.data import get_dataset\\nfrom src.models.contentBased.trainer import Trainer\\nfrom src.models.contentBased.model import ContentBaseRecommenderSystem\\n\\npio.renderers.default = \\\"notebook\\\"\\n\\nRATINGS_PATH = Path(\\\"../data/ratings_small.csv\\\")\\nOUTPUT_PATH = Path(\\\"../models/embedded_regression.pt\\\")\";\n",
       "                var nbb_formatted_code = \"%load_ext autoreload\\n%load_ext nb_black\\n%autoreload 2\\n\\nimport sys\\nimport warnings\\n\\nwarnings.simplefilter(action=\\\"ignore\\\", category=FutureWarning)\\nwarnings.filterwarnings(\\\"ignore\\\")\\nsys.path.append(\\\"../\\\")\\n\\nfrom pathlib import Path\\n\\nimport pandas as pd\\nimport plotly.express as px\\nimport plotly.io as pio\\nimport torch\\nfrom sklearn.preprocessing import LabelEncoder\\nfrom torch.nn import MSELoss\\n\\nfrom src.models.contentBased.data import get_dataset\\nfrom src.models.contentBased.trainer import Trainer\\nfrom src.models.contentBased.model import ContentBaseRecommenderSystem\\n\\npio.renderers.default = \\\"notebook\\\"\\n\\nRATINGS_PATH = Path(\\\"../data/ratings_small.csv\\\")\\nOUTPUT_PATH = Path(\\\"../models/embedded_regression.pt\\\")\";\n",
       "                var nbb_cells = Jupyter.notebook.get_cells();\n",
       "                for (var i = 0; i < nbb_cells.length; ++i) {\n",
       "                    if (nbb_cells[i].input_prompt_number == nbb_cell_id) {\n",
       "                        if (nbb_cells[i].get_text() == nbb_unformatted_code) {\n",
       "                             nbb_cells[i].set_text(nbb_formatted_code);\n",
       "                        }\n",
       "                        break;\n",
       "                    }\n",
       "                }\n",
       "            }, 500);\n",
       "            "
      ],
      "text/plain": [
       "<IPython.core.display.Javascript object>"
      ]
     },
     "metadata": {},
     "output_type": "display_data"
    }
   ],
   "source": [
    "%load_ext autoreload\n",
    "%load_ext nb_black\n",
    "%autoreload 2\n",
    "\n",
    "import sys\n",
    "import warnings\n",
    "\n",
    "warnings.simplefilter(action=\"ignore\", category=FutureWarning)\n",
    "warnings.filterwarnings(\"ignore\")\n",
    "sys.path.append(\"../\")\n",
    "\n",
    "from pathlib import Path\n",
    "\n",
    "import pandas as pd\n",
    "import plotly.express as px\n",
    "import plotly.io as pio\n",
    "import torch\n",
    "from sklearn.preprocessing import LabelEncoder\n",
    "from torch.nn import MSELoss\n",
    "\n",
    "from src.models.contentBased.data import get_dataset\n",
    "from src.models.contentBased.trainer import Trainer\n",
    "from src.models.contentBased.model import ContentBaseRecommenderSystem\n",
    "\n",
    "pio.renderers.default = \"notebook\"\n",
    "\n",
    "RATINGS_PATH = Path(\"../data/ratings_small.csv\")\n",
    "OUTPUT_PATH = Path(\"../models/embedded_regression.pt\")"
   ]
  },
  {
   "cell_type": "markdown",
   "id": "swedish-nomination",
   "metadata": {},
   "source": [
    "# Data"
   ]
  },
  {
   "cell_type": "code",
   "execution_count": 3,
   "id": "opposed-reviewer",
   "metadata": {},
   "outputs": [
    {
     "data": {
      "text/plain": [
       "(tensor([[ -0.4824,  -0.3543,  -0.8288,  ..., 250.0000,  96.0000,  35.0000],\n",
       "         [ -0.5697,  -0.5023,  -0.9607,  ..., 327.0000,  96.0000, 229.0000],\n",
       "         [ -0.5369,  -0.5471,  -0.9051,  ...,  34.0000,  96.0000, 259.0000],\n",
       "         ...,\n",
       "         [ -0.7750,  -0.6455,  -0.9882,  ..., 310.0000,  41.0000,  39.0000],\n",
       "         [ -0.3490,  -0.4501,  -0.8027,  ..., 224.0000,  79.0000, 160.0000],\n",
       "         [ -0.4764,  -0.6251,  -0.9895,  ..., 103.0000,  22.0000,  30.0000]]),\n",
       " tensor([4.0000, 5.0000, 4.0000,  ..., 4.0000, 2.5000, 4.0000]))"
      ]
     },
     "execution_count": 3,
     "metadata": {},
     "output_type": "execute_result"
    },
    {
     "data": {
      "application/javascript": [
       "\n",
       "            setTimeout(function() {\n",
       "                var nbb_cell_id = 3;\n",
       "                var nbb_unformatted_code = \"dataset_tensor_train, dataset_tensor_test = get_dataset()\\ndataset_tensor_train.tensors\";\n",
       "                var nbb_formatted_code = \"dataset_tensor_train, dataset_tensor_test = get_dataset()\\ndataset_tensor_train.tensors\";\n",
       "                var nbb_cells = Jupyter.notebook.get_cells();\n",
       "                for (var i = 0; i < nbb_cells.length; ++i) {\n",
       "                    if (nbb_cells[i].input_prompt_number == nbb_cell_id) {\n",
       "                        if (nbb_cells[i].get_text() == nbb_unformatted_code) {\n",
       "                             nbb_cells[i].set_text(nbb_formatted_code);\n",
       "                        }\n",
       "                        break;\n",
       "                    }\n",
       "                }\n",
       "            }, 500);\n",
       "            "
      ],
      "text/plain": [
       "<IPython.core.display.Javascript object>"
      ]
     },
     "metadata": {},
     "output_type": "display_data"
    }
   ],
   "source": [
    "dataset_tensor_train, dataset_tensor_test = get_dataset()\n",
    "dataset_tensor_train.tensors"
   ]
  },
  {
   "cell_type": "code",
   "execution_count": 8,
   "id": "medical-logic",
   "metadata": {},
   "outputs": [
    {
     "data": {
      "application/javascript": [
       "\n",
       "            setTimeout(function() {\n",
       "                var nbb_cell_id = 8;\n",
       "                var nbb_unformatted_code = \"LR = 0.001\\nEPOCHS = 20\\nHIDDEN_SIZE = 254\\nFLAT_SIZE = 779\\nOUTPUT = 1\\n\\nmodel = ContentBaseRecommenderSystem(FLAT_SIZE, HIDDEN_SIZE)\";\n",
       "                var nbb_formatted_code = \"LR = 0.001\\nEPOCHS = 20\\nHIDDEN_SIZE = 254\\nFLAT_SIZE = 779\\nOUTPUT = 1\\n\\nmodel = ContentBaseRecommenderSystem(FLAT_SIZE, HIDDEN_SIZE)\";\n",
       "                var nbb_cells = Jupyter.notebook.get_cells();\n",
       "                for (var i = 0; i < nbb_cells.length; ++i) {\n",
       "                    if (nbb_cells[i].input_prompt_number == nbb_cell_id) {\n",
       "                        if (nbb_cells[i].get_text() == nbb_unformatted_code) {\n",
       "                             nbb_cells[i].set_text(nbb_formatted_code);\n",
       "                        }\n",
       "                        break;\n",
       "                    }\n",
       "                }\n",
       "            }, 500);\n",
       "            "
      ],
      "text/plain": [
       "<IPython.core.display.Javascript object>"
      ]
     },
     "metadata": {},
     "output_type": "display_data"
    }
   ],
   "source": [
    "LR = 0.001\n",
    "EPOCHS = 20\n",
    "HIDDEN_SIZE = 254\n",
    "FLAT_SIZE = 779\n",
    "OUTPUT = 1\n",
    "\n",
    "model = ContentBaseRecommenderSystem(FLAT_SIZE, HIDDEN_SIZE)"
   ]
  },
  {
   "cell_type": "code",
   "execution_count": 9,
   "id": "under-choir",
   "metadata": {},
   "outputs": [
    {
     "data": {
      "application/javascript": [
       "\n",
       "            setTimeout(function() {\n",
       "                var nbb_cell_id = 9;\n",
       "                var nbb_unformatted_code = \"trainer = Trainer(\\n    loss=MSELoss(),\\n    regularizers=[],\\n    lr=2e-4,\\n    weight_decay=1e-7,\\n    epochs=100,\\n    batch_size=2_000,\\n)\";\n",
       "                var nbb_formatted_code = \"trainer = Trainer(\\n    loss=MSELoss(),\\n    regularizers=[],\\n    lr=2e-4,\\n    weight_decay=1e-7,\\n    epochs=100,\\n    batch_size=2_000,\\n)\";\n",
       "                var nbb_cells = Jupyter.notebook.get_cells();\n",
       "                for (var i = 0; i < nbb_cells.length; ++i) {\n",
       "                    if (nbb_cells[i].input_prompt_number == nbb_cell_id) {\n",
       "                        if (nbb_cells[i].get_text() == nbb_unformatted_code) {\n",
       "                             nbb_cells[i].set_text(nbb_formatted_code);\n",
       "                        }\n",
       "                        break;\n",
       "                    }\n",
       "                }\n",
       "            }, 500);\n",
       "            "
      ],
      "text/plain": [
       "<IPython.core.display.Javascript object>"
      ]
     },
     "metadata": {},
     "output_type": "display_data"
    }
   ],
   "source": [
    "trainer = Trainer(\n",
    "    loss=MSELoss(),\n",
    "    regularizers=[],\n",
    "    lr=2e-4,\n",
    "    weight_decay=1e-7,\n",
    "    epochs=100,\n",
    "    batch_size=2_000,\n",
    ")"
   ]
  },
  {
   "cell_type": "code",
   "execution_count": 10,
   "id": "annoying-heather",
   "metadata": {},
   "outputs": [
    {
     "data": {
      "application/vnd.jupyter.widget-view+json": {
       "model_id": "de84566f35aa44e6b5f463a8d46c3395",
       "version_major": 2,
       "version_minor": 0
      },
      "text/plain": [
       "Training:   0%|          | 0/100 [00:00<?, ?it/s]"
      ]
     },
     "metadata": {},
     "output_type": "display_data"
    },
    {
     "data": {
      "application/javascript": [
       "\n",
       "            setTimeout(function() {\n",
       "                var nbb_cell_id = 10;\n",
       "                var nbb_unformatted_code = \"trainer.fit(model)\";\n",
       "                var nbb_formatted_code = \"trainer.fit(model)\";\n",
       "                var nbb_cells = Jupyter.notebook.get_cells();\n",
       "                for (var i = 0; i < nbb_cells.length; ++i) {\n",
       "                    if (nbb_cells[i].input_prompt_number == nbb_cell_id) {\n",
       "                        if (nbb_cells[i].get_text() == nbb_unformatted_code) {\n",
       "                             nbb_cells[i].set_text(nbb_formatted_code);\n",
       "                        }\n",
       "                        break;\n",
       "                    }\n",
       "                }\n",
       "            }, 500);\n",
       "            "
      ],
      "text/plain": [
       "<IPython.core.display.Javascript object>"
      ]
     },
     "metadata": {},
     "output_type": "display_data"
    }
   ],
   "source": [
    "trainer.fit(model)"
   ]
  },
  {
   "cell_type": "code",
   "execution_count": 11,
   "id": "signal-unknown",
   "metadata": {},
   "outputs": [
    {
     "data": {
      "text/html": [
       "<div>                            <div id=\"ac0f811d-f1fc-4622-b6d8-1c8d0e76c864\" class=\"plotly-graph-div\" style=\"height:525px; width:100%;\"></div>            <script type=\"text/javascript\">                require([\"plotly\"], function(Plotly) {                    window.PLOTLYENV=window.PLOTLYENV || {};                                    if (document.getElementById(\"ac0f811d-f1fc-4622-b6d8-1c8d0e76c864\")) {                    Plotly.newPlot(                        \"ac0f811d-f1fc-4622-b6d8-1c8d0e76c864\",                        [{\"hovertemplate\": \"Loss=train<br>Epochs=%{x}<br>MSE=%{y}<extra></extra>\", \"legendgroup\": \"train\", \"line\": {\"color\": \"#636efa\", \"dash\": \"solid\"}, \"mode\": \"lines\", \"name\": \"train\", \"orientation\": \"v\", \"showlegend\": true, \"type\": \"scatter\", \"x\": [0, 1, 2, 3, 4, 5, 6, 7, 8, 9, 10, 11, 12, 13, 14, 15, 16, 17, 18, 19, 20, 21, 22, 23, 24, 25, 26, 27, 28, 29, 30, 31, 32, 33, 34, 35, 36, 37, 38, 39, 40, 41, 42, 43, 44, 45, 46, 47, 48, 49, 50, 51, 52, 53, 54, 55, 56, 57, 58, 59, 60, 61, 62, 63, 64, 65, 66, 67, 68, 69, 70, 71, 72, 73, 74, 75, 76, 77, 78, 79, 80, 81, 82, 83, 84, 85, 86, 87, 88, 89, 90, 91, 92, 93, 94, 95, 96, 97, 98, 99], \"xaxis\": \"x\", \"y\": [2.4065142631530763, 2.2561654090881347, 2.115114688873291, 1.8705377340316773, 1.8058179855346679, 1.6816829442977905, 1.5562777519226074, 1.5200690269470214, 1.4371094465255738, 1.4367748022079467, 1.3853394508361816, 1.3444641828536987, 1.3396783828735352, 1.3178101062774659, 1.2839004278182984, 1.266827392578125, 1.2649218559265136, 1.2693949222564698, 1.2462759256362914, 1.2468926906585693, 1.2384189367294312, 1.2390887498855592, 1.2127085208892823, 1.2069568157196044, 1.193104100227356, 1.1849480628967286, 1.1923304319381713, 1.189969539642334, 1.175156021118164, 1.1765053749084473, 1.174050211906433, 1.1684003353118897, 1.162268042564392, 1.1502171516418458, 1.1501593828201293, 1.1568077325820922, 1.146286630630493, 1.1478920698165893, 1.1411437511444091, 1.1341772317886352, 1.1407362937927246, 1.1409279346466064, 1.1275396585464477, 1.1250579595565795, 1.1350199937820435, 1.1270845651626586, 1.1293378591537475, 1.1237510442733765, 1.1164966106414795, 1.119211459159851, 1.1141147851943969, 1.1124174356460572, 1.1078422307968139, 1.108616089820862, 1.1141263961791992, 1.1076092720031738, 1.1028262376785278, 1.095901656150818, 1.096610164642334, 1.098441243171692, 1.0958956241607667, 1.0997053146362306, 1.0960675477981567, 1.0889820337295533, 1.0901609420776368, 1.0924000024795533, 1.0853018522262574, 1.0852731943130494, 1.0871983766555786, 1.0811460733413696, 1.0818435907363892, 1.0853765249252318, 1.0774712085723877, 1.0759993076324463, 1.0728954553604126, 1.0735458612442017, 1.071390199661255, 1.0699878215789795, 1.0719613075256347, 1.0697567224502564, 1.0671082973480224, 1.073503589630127, 1.0674312114715576, 1.0616557598114014, 1.0600081205368042, 1.060376477241516, 1.0577106475830078, 1.0581650257110595, 1.0643623113632201, 1.0619771480560303, 1.0548784494400025, 1.066402554512024, 1.0604098796844483, 1.0613006114959718, 1.0523234844207763, 1.0623732566833497, 1.0552510261535644, 1.0506192326545716, 1.0584091663360595, 1.0541420221328734], \"yaxis\": \"y\"}, {\"hovertemplate\": \"Loss=test<br>Epochs=%{x}<br>MSE=%{y}<extra></extra>\", \"legendgroup\": \"test\", \"line\": {\"color\": \"#EF553B\", \"dash\": \"solid\"}, \"mode\": \"lines\", \"name\": \"test\", \"orientation\": \"v\", \"showlegend\": true, \"type\": \"scatter\", \"x\": [0, 1, 2, 3, 4, 5, 6, 7, 8, 9, 10, 11, 12, 13, 14, 15, 16, 17, 18, 19, 20, 21, 22, 23, 24, 25, 26, 27, 28, 29, 30, 31, 32, 33, 34, 35, 36, 37, 38, 39, 40, 41, 42, 43, 44, 45, 46, 47, 48, 49, 50, 51, 52, 53, 54, 55, 56, 57, 58, 59, 60, 61, 62, 63, 64, 65, 66, 67, 68, 69, 70, 71, 72, 73, 74, 75, 76, 77, 78, 79, 80, 81, 82, 83, 84, 85, 86, 87, 88, 89, 90, 91, 92, 93, 94, 95, 96, 97, 98, 99], \"xaxis\": \"x\", \"y\": [2.3676257133483887, 2.1393580436706543, 1.8952471017837524, 1.823779582977295, 1.7046366930007935, 1.5631121397018433, 1.5185878276824951, 1.4573607444763184, 1.3907872438430786, 1.3153105974197388, 1.301160216331482, 1.26209557056427, 1.3109480142593384, 1.2324682474136353, 1.204508900642395, 1.2032455205917358, 1.2574281692504883, 1.2165721654891968, 1.211401104927063, 1.2331483364105225, 1.1873815059661865, 1.1794065237045288, 1.1415188312530518, 1.136473536491394, 1.1384357213974, 1.187560796737671, 1.1216105222702026, 1.1519782543182373, 1.1187082529067993, 1.1384793519973755, 1.1434804201126099, 1.1368863582611084, 1.1031466722488403, 1.1114294528961182, 1.1107704639434814, 1.1206308603286743, 1.0963025093078613, 1.102250337600708, 1.0686578750610352, 1.0542163848876953, 1.0825839042663574, 1.077658772468567, 1.0721250772476196, 1.0578149557113647, 1.0688499212265015, 1.0464460849761963, 1.0883556604385376, 1.0976277589797974, 1.069513201713562, 1.0645695924758911, 1.0384244918823242, 1.0614004135131836, 1.0635309219360352, 1.0536189079284668, 1.0537512302398682, 1.0673719644546509, 1.0498275756835938, 1.047184944152832, 1.0607095956802368, 1.0485665798187256, 1.0513520240783691, 1.0407660007476807, 1.0629515647888184, 1.0222914218902588, 1.044311761856079, 1.0320720672607422, 1.0506962537765503, 1.068742036819458, 1.0581004619598389, 1.0469404458999634, 1.037713885307312, 1.024314522743225, 1.0317829847335815, 1.0147573947906494, 1.038362979888916, 1.0324426889419556, 1.0221132040023804, 1.0231248140335083, 1.0169984102249146, 1.0329655408859253, 1.0223016738891602, 1.0144569873809814, 1.0220980644226074, 0.9993105530738831, 1.0120848417282104, 1.011293888092041, 1.0150580406188965, 1.0288407802581787, 1.011779546737671, 1.0040714740753174, 1.0266897678375244, 1.0163358449935913, 1.008704662322998, 1.0199331045150757, 0.9922283291816711, 1.0002834796905518, 0.9950075745582581, 1.0109813213348389, 0.987953245639801, 0.9859399795532227], \"yaxis\": \"y\"}],                        {\"legend\": {\"title\": {\"text\": \"Loss\"}, \"tracegroupgap\": 0}, \"template\": {\"data\": {\"bar\": [{\"error_x\": {\"color\": \"#2a3f5f\"}, \"error_y\": {\"color\": \"#2a3f5f\"}, \"marker\": {\"line\": {\"color\": \"#E5ECF6\", \"width\": 0.5}}, \"type\": \"bar\"}], \"barpolar\": [{\"marker\": {\"line\": {\"color\": \"#E5ECF6\", \"width\": 0.5}}, \"type\": \"barpolar\"}], \"carpet\": [{\"aaxis\": {\"endlinecolor\": \"#2a3f5f\", \"gridcolor\": \"white\", \"linecolor\": \"white\", \"minorgridcolor\": \"white\", \"startlinecolor\": \"#2a3f5f\"}, \"baxis\": {\"endlinecolor\": \"#2a3f5f\", \"gridcolor\": \"white\", \"linecolor\": \"white\", \"minorgridcolor\": \"white\", \"startlinecolor\": \"#2a3f5f\"}, \"type\": \"carpet\"}], \"choropleth\": [{\"colorbar\": {\"outlinewidth\": 0, \"ticks\": \"\"}, \"type\": \"choropleth\"}], \"contour\": [{\"colorbar\": {\"outlinewidth\": 0, \"ticks\": \"\"}, \"colorscale\": [[0.0, \"#0d0887\"], [0.1111111111111111, \"#46039f\"], [0.2222222222222222, \"#7201a8\"], [0.3333333333333333, \"#9c179e\"], [0.4444444444444444, \"#bd3786\"], [0.5555555555555556, \"#d8576b\"], [0.6666666666666666, \"#ed7953\"], [0.7777777777777778, \"#fb9f3a\"], [0.8888888888888888, \"#fdca26\"], [1.0, \"#f0f921\"]], \"type\": \"contour\"}], \"contourcarpet\": [{\"colorbar\": {\"outlinewidth\": 0, \"ticks\": \"\"}, \"type\": \"contourcarpet\"}], \"heatmap\": [{\"colorbar\": {\"outlinewidth\": 0, \"ticks\": \"\"}, \"colorscale\": [[0.0, \"#0d0887\"], [0.1111111111111111, \"#46039f\"], [0.2222222222222222, \"#7201a8\"], [0.3333333333333333, \"#9c179e\"], [0.4444444444444444, \"#bd3786\"], [0.5555555555555556, \"#d8576b\"], [0.6666666666666666, \"#ed7953\"], [0.7777777777777778, \"#fb9f3a\"], [0.8888888888888888, \"#fdca26\"], [1.0, \"#f0f921\"]], \"type\": \"heatmap\"}], \"heatmapgl\": [{\"colorbar\": {\"outlinewidth\": 0, \"ticks\": \"\"}, \"colorscale\": [[0.0, \"#0d0887\"], [0.1111111111111111, \"#46039f\"], [0.2222222222222222, \"#7201a8\"], [0.3333333333333333, \"#9c179e\"], [0.4444444444444444, \"#bd3786\"], [0.5555555555555556, \"#d8576b\"], [0.6666666666666666, \"#ed7953\"], [0.7777777777777778, \"#fb9f3a\"], [0.8888888888888888, \"#fdca26\"], [1.0, \"#f0f921\"]], \"type\": \"heatmapgl\"}], \"histogram\": [{\"marker\": {\"colorbar\": {\"outlinewidth\": 0, \"ticks\": \"\"}}, \"type\": \"histogram\"}], \"histogram2d\": [{\"colorbar\": {\"outlinewidth\": 0, \"ticks\": \"\"}, \"colorscale\": [[0.0, \"#0d0887\"], [0.1111111111111111, \"#46039f\"], [0.2222222222222222, \"#7201a8\"], [0.3333333333333333, \"#9c179e\"], [0.4444444444444444, \"#bd3786\"], [0.5555555555555556, \"#d8576b\"], [0.6666666666666666, \"#ed7953\"], [0.7777777777777778, \"#fb9f3a\"], [0.8888888888888888, \"#fdca26\"], [1.0, \"#f0f921\"]], \"type\": \"histogram2d\"}], \"histogram2dcontour\": [{\"colorbar\": {\"outlinewidth\": 0, \"ticks\": \"\"}, \"colorscale\": [[0.0, \"#0d0887\"], [0.1111111111111111, \"#46039f\"], [0.2222222222222222, \"#7201a8\"], [0.3333333333333333, \"#9c179e\"], [0.4444444444444444, \"#bd3786\"], [0.5555555555555556, \"#d8576b\"], [0.6666666666666666, \"#ed7953\"], [0.7777777777777778, \"#fb9f3a\"], [0.8888888888888888, \"#fdca26\"], [1.0, \"#f0f921\"]], \"type\": \"histogram2dcontour\"}], \"mesh3d\": [{\"colorbar\": {\"outlinewidth\": 0, \"ticks\": \"\"}, \"type\": \"mesh3d\"}], \"parcoords\": [{\"line\": {\"colorbar\": {\"outlinewidth\": 0, \"ticks\": \"\"}}, \"type\": \"parcoords\"}], \"pie\": [{\"automargin\": true, \"type\": \"pie\"}], \"scatter\": [{\"marker\": {\"colorbar\": {\"outlinewidth\": 0, \"ticks\": \"\"}}, \"type\": \"scatter\"}], \"scatter3d\": [{\"line\": {\"colorbar\": {\"outlinewidth\": 0, \"ticks\": \"\"}}, \"marker\": {\"colorbar\": {\"outlinewidth\": 0, \"ticks\": \"\"}}, \"type\": \"scatter3d\"}], \"scattercarpet\": [{\"marker\": {\"colorbar\": {\"outlinewidth\": 0, \"ticks\": \"\"}}, \"type\": \"scattercarpet\"}], \"scattergeo\": [{\"marker\": {\"colorbar\": {\"outlinewidth\": 0, \"ticks\": \"\"}}, \"type\": \"scattergeo\"}], \"scattergl\": [{\"marker\": {\"colorbar\": {\"outlinewidth\": 0, \"ticks\": \"\"}}, \"type\": \"scattergl\"}], \"scattermapbox\": [{\"marker\": {\"colorbar\": {\"outlinewidth\": 0, \"ticks\": \"\"}}, \"type\": \"scattermapbox\"}], \"scatterpolar\": [{\"marker\": {\"colorbar\": {\"outlinewidth\": 0, \"ticks\": \"\"}}, \"type\": \"scatterpolar\"}], \"scatterpolargl\": [{\"marker\": {\"colorbar\": {\"outlinewidth\": 0, \"ticks\": \"\"}}, \"type\": \"scatterpolargl\"}], \"scatterternary\": [{\"marker\": {\"colorbar\": {\"outlinewidth\": 0, \"ticks\": \"\"}}, \"type\": \"scatterternary\"}], \"surface\": [{\"colorbar\": {\"outlinewidth\": 0, \"ticks\": \"\"}, \"colorscale\": [[0.0, \"#0d0887\"], [0.1111111111111111, \"#46039f\"], [0.2222222222222222, \"#7201a8\"], [0.3333333333333333, \"#9c179e\"], [0.4444444444444444, \"#bd3786\"], [0.5555555555555556, \"#d8576b\"], [0.6666666666666666, \"#ed7953\"], [0.7777777777777778, \"#fb9f3a\"], [0.8888888888888888, \"#fdca26\"], [1.0, \"#f0f921\"]], \"type\": \"surface\"}], \"table\": [{\"cells\": {\"fill\": {\"color\": \"#EBF0F8\"}, \"line\": {\"color\": \"white\"}}, \"header\": {\"fill\": {\"color\": \"#C8D4E3\"}, \"line\": {\"color\": \"white\"}}, \"type\": \"table\"}]}, \"layout\": {\"annotationdefaults\": {\"arrowcolor\": \"#2a3f5f\", \"arrowhead\": 0, \"arrowwidth\": 1}, \"autotypenumbers\": \"strict\", \"coloraxis\": {\"colorbar\": {\"outlinewidth\": 0, \"ticks\": \"\"}}, \"colorscale\": {\"diverging\": [[0, \"#8e0152\"], [0.1, \"#c51b7d\"], [0.2, \"#de77ae\"], [0.3, \"#f1b6da\"], [0.4, \"#fde0ef\"], [0.5, \"#f7f7f7\"], [0.6, \"#e6f5d0\"], [0.7, \"#b8e186\"], [0.8, \"#7fbc41\"], [0.9, \"#4d9221\"], [1, \"#276419\"]], \"sequential\": [[0.0, \"#0d0887\"], [0.1111111111111111, \"#46039f\"], [0.2222222222222222, \"#7201a8\"], [0.3333333333333333, \"#9c179e\"], [0.4444444444444444, \"#bd3786\"], [0.5555555555555556, \"#d8576b\"], [0.6666666666666666, \"#ed7953\"], [0.7777777777777778, \"#fb9f3a\"], [0.8888888888888888, \"#fdca26\"], [1.0, \"#f0f921\"]], \"sequentialminus\": [[0.0, \"#0d0887\"], [0.1111111111111111, \"#46039f\"], [0.2222222222222222, \"#7201a8\"], [0.3333333333333333, \"#9c179e\"], [0.4444444444444444, \"#bd3786\"], [0.5555555555555556, \"#d8576b\"], [0.6666666666666666, \"#ed7953\"], [0.7777777777777778, \"#fb9f3a\"], [0.8888888888888888, \"#fdca26\"], [1.0, \"#f0f921\"]]}, \"colorway\": [\"#636efa\", \"#EF553B\", \"#00cc96\", \"#ab63fa\", \"#FFA15A\", \"#19d3f3\", \"#FF6692\", \"#B6E880\", \"#FF97FF\", \"#FECB52\"], \"font\": {\"color\": \"#2a3f5f\"}, \"geo\": {\"bgcolor\": \"white\", \"lakecolor\": \"white\", \"landcolor\": \"#E5ECF6\", \"showlakes\": true, \"showland\": true, \"subunitcolor\": \"white\"}, \"hoverlabel\": {\"align\": \"left\"}, \"hovermode\": \"closest\", \"mapbox\": {\"style\": \"light\"}, \"paper_bgcolor\": \"white\", \"plot_bgcolor\": \"#E5ECF6\", \"polar\": {\"angularaxis\": {\"gridcolor\": \"white\", \"linecolor\": \"white\", \"ticks\": \"\"}, \"bgcolor\": \"#E5ECF6\", \"radialaxis\": {\"gridcolor\": \"white\", \"linecolor\": \"white\", \"ticks\": \"\"}}, \"scene\": {\"xaxis\": {\"backgroundcolor\": \"#E5ECF6\", \"gridcolor\": \"white\", \"gridwidth\": 2, \"linecolor\": \"white\", \"showbackground\": true, \"ticks\": \"\", \"zerolinecolor\": \"white\"}, \"yaxis\": {\"backgroundcolor\": \"#E5ECF6\", \"gridcolor\": \"white\", \"gridwidth\": 2, \"linecolor\": \"white\", \"showbackground\": true, \"ticks\": \"\", \"zerolinecolor\": \"white\"}, \"zaxis\": {\"backgroundcolor\": \"#E5ECF6\", \"gridcolor\": \"white\", \"gridwidth\": 2, \"linecolor\": \"white\", \"showbackground\": true, \"ticks\": \"\", \"zerolinecolor\": \"white\"}}, \"shapedefaults\": {\"line\": {\"color\": \"#2a3f5f\"}}, \"ternary\": {\"aaxis\": {\"gridcolor\": \"white\", \"linecolor\": \"white\", \"ticks\": \"\"}, \"baxis\": {\"gridcolor\": \"white\", \"linecolor\": \"white\", \"ticks\": \"\"}, \"bgcolor\": \"#E5ECF6\", \"caxis\": {\"gridcolor\": \"white\", \"linecolor\": \"white\", \"ticks\": \"\"}}, \"title\": {\"x\": 0.05}, \"xaxis\": {\"automargin\": true, \"gridcolor\": \"white\", \"linecolor\": \"white\", \"ticks\": \"\", \"title\": {\"standoff\": 15}, \"zerolinecolor\": \"white\", \"zerolinewidth\": 2}, \"yaxis\": {\"automargin\": true, \"gridcolor\": \"white\", \"linecolor\": \"white\", \"ticks\": \"\", \"title\": {\"standoff\": 15}, \"zerolinecolor\": \"white\", \"zerolinewidth\": 2}}}, \"title\": {\"text\": \"Convergence\"}, \"xaxis\": {\"anchor\": \"y\", \"domain\": [0.0, 1.0], \"title\": {\"text\": \"Epochs\"}}, \"yaxis\": {\"anchor\": \"x\", \"domain\": [0.0, 1.0], \"title\": {\"text\": \"MSE\"}}},                        {\"responsive\": true}                    ).then(function(){\n",
       "                            \n",
       "var gd = document.getElementById('ac0f811d-f1fc-4622-b6d8-1c8d0e76c864');\n",
       "var x = new MutationObserver(function (mutations, observer) {{\n",
       "        var display = window.getComputedStyle(gd).display;\n",
       "        if (!display || display === 'none') {{\n",
       "            console.log([gd, 'removed!']);\n",
       "            Plotly.purge(gd);\n",
       "            observer.disconnect();\n",
       "        }}\n",
       "}});\n",
       "\n",
       "// Listen for the removal of the full notebook cells\n",
       "var notebookContainer = gd.closest('#notebook-container');\n",
       "if (notebookContainer) {{\n",
       "    x.observe(notebookContainer, {childList: true});\n",
       "}}\n",
       "\n",
       "// Listen for the clearing of the current output cell\n",
       "var outputEl = gd.closest('.output');\n",
       "if (outputEl) {{\n",
       "    x.observe(outputEl, {childList: true});\n",
       "}}\n",
       "\n",
       "                        })                };                });            </script>        </div>"
      ]
     },
     "metadata": {},
     "output_type": "display_data"
    },
    {
     "data": {
      "application/javascript": [
       "\n",
       "            setTimeout(function() {\n",
       "                var nbb_cell_id = 11;\n",
       "                var nbb_unformatted_code = \"loss_history = trainer.get_loss_history()\\n\\nfig = px.line(\\n    loss_history,\\n    x=\\\"epoch\\\",\\n    y=\\\"value\\\",\\n    color=\\\"loss\\\",\\n    title=\\\"Convergence\\\",\\n    labels={\\\"epoch\\\": \\\"Epochs\\\", \\\"loss\\\": \\\"Loss\\\", \\\"value\\\": \\\"MSE\\\"},\\n)\\nfig.show()\";\n",
       "                var nbb_formatted_code = \"loss_history = trainer.get_loss_history()\\n\\nfig = px.line(\\n    loss_history,\\n    x=\\\"epoch\\\",\\n    y=\\\"value\\\",\\n    color=\\\"loss\\\",\\n    title=\\\"Convergence\\\",\\n    labels={\\\"epoch\\\": \\\"Epochs\\\", \\\"loss\\\": \\\"Loss\\\", \\\"value\\\": \\\"MSE\\\"},\\n)\\nfig.show()\";\n",
       "                var nbb_cells = Jupyter.notebook.get_cells();\n",
       "                for (var i = 0; i < nbb_cells.length; ++i) {\n",
       "                    if (nbb_cells[i].input_prompt_number == nbb_cell_id) {\n",
       "                        if (nbb_cells[i].get_text() == nbb_unformatted_code) {\n",
       "                             nbb_cells[i].set_text(nbb_formatted_code);\n",
       "                        }\n",
       "                        break;\n",
       "                    }\n",
       "                }\n",
       "            }, 500);\n",
       "            "
      ],
      "text/plain": [
       "<IPython.core.display.Javascript object>"
      ]
     },
     "metadata": {},
     "output_type": "display_data"
    }
   ],
   "source": [
    "loss_history = trainer.get_loss_history()\n",
    "\n",
    "fig = px.line(\n",
    "    loss_history,\n",
    "    x=\"epoch\",\n",
    "    y=\"value\",\n",
    "    color=\"loss\",\n",
    "    title=\"Convergence\",\n",
    "    labels={\"epoch\": \"Epochs\", \"loss\": \"Loss\", \"value\": \"MSE\"},\n",
    ")\n",
    "fig.show()"
   ]
  },
  {
   "cell_type": "code",
   "execution_count": null,
   "id": "sonic-settlement",
   "metadata": {},
   "outputs": [],
   "source": []
  }
 ],
 "metadata": {
  "kernelspec": {
   "display_name": "Python 3",
   "language": "python",
   "name": "python3"
  },
  "language_info": {
   "codemirror_mode": {
    "name": "ipython",
    "version": 3
   },
   "file_extension": ".py",
   "mimetype": "text/x-python",
   "name": "python",
   "nbconvert_exporter": "python",
   "pygments_lexer": "ipython3",
   "version": "3.9.2"
  }
 },
 "nbformat": 4,
 "nbformat_minor": 5
}
