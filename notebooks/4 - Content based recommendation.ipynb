{
 "cells": [
  {
   "cell_type": "code",
   "execution_count": null,
   "id": "inclusive-ottawa",
   "metadata": {},
   "outputs": [],
   "source": [
    "%load_ext autoreload\n",
    "%load_ext nb_black\n",
    "%autoreload 2\n",
    "\n",
    "import sys\n",
    "import warnings\n",
    "\n",
    "warnings.simplefilter(action=\"ignore\", category=FutureWarning)\n",
    "warnings.filterwarnings(\"ignore\")\n",
    "sys.path.append(\"../\")\n",
    "\n",
    "from pathlib import Path\n",
    "\n",
    "import pandas as pd\n",
    "import plotly.express as px\n",
    "import plotly.io as pio\n",
    "import torch\n",
    "from sklearn.preprocessing import LabelEncoder\n",
    "from torch.nn import MSELoss\n",
    "\n",
    "from src.models.content_based.data import get_dataset\n",
    "from src.models.content_based.trainer import Trainer\n",
    "from src.models.content_based.model import ContentBaseRecommenderSystem\n",
    "\n",
    "pio.renderers.default = \"notebook\"\n",
    "\n",
    "RATINGS_PATH = Path(\"../data/ratings_small.csv\")\n",
    "OUTPUT_PATH = Path(\"../models/embedded_regression.pt\")"
   ]
  },
  {
   "cell_type": "markdown",
   "id": "swedish-nomination",
   "metadata": {},
   "source": [
    "# Data"
   ]
  },
  {
   "cell_type": "code",
   "execution_count": null,
   "id": "opposed-reviewer",
   "metadata": {},
   "outputs": [],
   "source": [
    "dataset_tensor_train, dataset_tensor_test = get_dataset()\n",
    "dataset_tensor_train.tensors"
   ]
  },
  {
   "cell_type": "code",
   "execution_count": null,
   "id": "medical-logic",
   "metadata": {},
   "outputs": [],
   "source": [
    "LR = 0.001\n",
    "EPOCHS = 20\n",
    "HIDDEN_SIZE = 254\n",
    "FLAT_SIZE = 779\n",
    "OUTPUT = 1\n",
    "\n",
    "model = ContentBaseRecommenderSystem(FLAT_SIZE, HIDDEN_SIZE)"
   ]
  },
  {
   "cell_type": "code",
   "execution_count": null,
   "id": "under-choir",
   "metadata": {},
   "outputs": [],
   "source": [
    "trainer = Trainer(\n",
    "    loss=MSELoss(),\n",
    "    regularizers=[],\n",
    "    lr=2e-4,\n",
    "    weight_decay=1e-7,\n",
    "    epochs=100,\n",
    "    batch_size=2_000,\n",
    ")"
   ]
  },
  {
   "cell_type": "code",
   "execution_count": null,
   "id": "annoying-heather",
   "metadata": {},
   "outputs": [],
   "source": [
    "trainer.fit(model)"
   ]
  },
  {
   "cell_type": "code",
   "execution_count": null,
   "id": "signal-unknown",
   "metadata": {},
   "outputs": [],
   "source": [
    "loss_history = trainer.get_loss_history()\n",
    "\n",
    "fig = px.line(\n",
    "    loss_history,\n",
    "    x=\"epoch\",\n",
    "    y=\"value\",\n",
    "    color=\"loss\",\n",
    "    title=\"Convergence\",\n",
    "    labels={\"epoch\": \"Epochs\", \"loss\": \"Loss\", \"value\": \"MSE\"},\n",
    ")\n",
    "fig.show()"
   ]
  },
  {
   "cell_type": "code",
   "execution_count": null,
   "id": "sonic-settlement",
   "metadata": {},
   "outputs": [],
   "source": []
  }
 ],
 "metadata": {
  "kernelspec": {
   "display_name": "Python 3",
   "language": "python",
   "name": "python3"
  },
  "language_info": {
   "codemirror_mode": {
    "name": "ipython",
    "version": 3
   },
   "file_extension": ".py",
   "mimetype": "text/x-python",
   "name": "python",
   "nbconvert_exporter": "python",
   "pygments_lexer": "ipython3",
   "version": "3.9.2"
  }
 },
 "nbformat": 4,
 "nbformat_minor": 5
}
